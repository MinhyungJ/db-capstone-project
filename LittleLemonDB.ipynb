{
 "cells": [
  {
   "cell_type": "code",
   "execution_count": 4,
   "id": "5c225ee1-8b6f-4382-9987-ff57d8891fab",
   "metadata": {},
   "outputs": [
    {
     "name": "stdout",
     "output_type": "stream",
     "text": [
      "Requirement already satisfied: mysql-connector-python in c:\\users\\lmfhy\\appdata\\local\\programs\\python\\python311\\lib\\site-packages (8.0.32)\n",
      "Requirement already satisfied: protobuf<=3.20.3,>=3.11.0 in c:\\users\\lmfhy\\appdata\\local\\programs\\python\\python311\\lib\\site-packages (from mysql-connector-python) (3.20.3)\n",
      "Note: you may need to restart the kernel to use updated packages.\n"
     ]
    }
   ],
   "source": [
    "pip install mysql-connector-python"
   ]
  },
  {
   "cell_type": "code",
   "execution_count": 2,
   "id": "25770db7-99b0-4664-9dbf-e575a8a5d5d6",
   "metadata": {},
   "outputs": [],
   "source": [
    "import mysql.connector as connector\n",
    "connection = connector.connect(user=\"root\", password=\"Alsgud0330@\", db = \"LittleLemonDB\")\n",
    "cursor = connection.cursor()"
   ]
  },
  {
   "cell_type": "code",
   "execution_count": 3,
   "id": "68b39179-b64a-4c33-8878-7f8e9aa2d436",
   "metadata": {},
   "outputs": [
    {
     "name": "stdout",
     "output_type": "stream",
     "text": [
      "[('bookings',), ('customer',), ('employees',), ('menuitems',), ('menus',), ('order_delivery_status',), ('orders',)]\n"
     ]
    }
   ],
   "source": [
    "show_tables_query = \"SHOW tables;\" \n",
    "cursor.execute(show_tables_query)\n",
    "\n",
    "results = cursor.fetchall()\n",
    "print(results)"
   ]
  },
  {
   "cell_type": "code",
   "execution_count": 10,
   "id": "17d40fdf-8310-400d-aa56-fe962576fcc9",
   "metadata": {},
   "outputs": [],
   "source": [
    "cus_cost = \"\"\"\n",
    "SELECT C.Customer_name, C.Postal_Code, O.Quantity * O.Cost AS Total_Cost\n",
    "FROM Customer AS C JOIN Orders AS O ON C.CustomerID = O.CustomerID\n",
    "WHERE O.Quantity*O.Cost > 60;\n",
    "\"\"\""
   ]
  },
  {
   "cell_type": "code",
   "execution_count": 19,
   "id": "570fe4dd-bd2c-4b64-8609-0a69b1bd830f",
   "metadata": {},
   "outputs": [
    {
     "name": "stdout",
     "output_type": "stream",
     "text": [
      "['Customer_name', 'Postal_Code', 'Total_Cost']\n",
      "[('Misaki Ogura', '56456', 200)]\n"
     ]
    }
   ],
   "source": [
    "cursor.execute(cus_cost)\n",
    "results = cursor.fetchall()\n",
    "\n",
    "columns = [column[0] for column in cursor.description]\n",
    "print(columns)\n",
    "print(results)"
   ]
  },
  {
   "cell_type": "code",
   "execution_count": null,
   "id": "4a785ddf-6c00-45e0-b0ee-c7450acfdd9a",
   "metadata": {},
   "outputs": [],
   "source": []
  }
 ],
 "metadata": {
  "kernelspec": {
   "display_name": "Python 3 (ipykernel)",
   "language": "python",
   "name": "python3"
  },
  "language_info": {
   "codemirror_mode": {
    "name": "ipython",
    "version": 3
   },
   "file_extension": ".py",
   "mimetype": "text/x-python",
   "name": "python",
   "nbconvert_exporter": "python",
   "pygments_lexer": "ipython3",
   "version": "3.11.6"
  }
 },
 "nbformat": 4,
 "nbformat_minor": 5
}
