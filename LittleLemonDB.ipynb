{
 "cells": [
  {
   "cell_type": "code",
   "execution_count": 7,
   "id": "5c225ee1-8b6f-4382-9987-ff57d8891fab",
   "metadata": {},
   "outputs": [],
   "source": [
    "#pip install mysql-connector-python"
   ]
  },
  {
   "cell_type": "code",
   "execution_count": 1,
   "id": "25770db7-99b0-4664-9dbf-e575a8a5d5d6",
   "metadata": {},
   "outputs": [],
   "source": [
    "## Create a connection to MySQL server\n",
    "\n",
    "import mysql.connector as connector\n",
    "connection = connector.connect(user=\"root\", password=\"password\", db = \"LittleLemonDB\")\n",
    "cursor = connection.cursor()"
   ]
  },
  {
   "cell_type": "code",
   "execution_count": 2,
   "id": "68b39179-b64a-4c33-8878-7f8e9aa2d436",
   "metadata": {},
   "outputs": [
    {
     "name": "stdout",
     "output_type": "stream",
     "text": [
      "[('bookings',), ('customer',), ('employees',), ('menuitems',), ('menus',), ('order_delivery_status',), ('orders',)]\n"
     ]
    }
   ],
   "source": [
    "## SQL Query to retrieve the tables in the schema\n",
    "\n",
    "show_tables_query = \"SHOW tables;\" \n",
    "cursor.execute(show_tables_query)\n",
    "\n",
    "results = cursor.fetchall()\n",
    "print(results)"
   ]
  },
  {
   "cell_type": "code",
   "execution_count": 5,
   "id": "17d40fdf-8310-400d-aa56-fe962576fcc9",
   "metadata": {},
   "outputs": [],
   "source": [
    "## Stored SQL query as a Python string\n",
    "## JOIN is used, but you can use a virtual table that includes the required attributes as well.\n",
    "## This statement will return the customer who spent more than $60 in total.\n",
    "\n",
    "cus_cost = \"\"\"\n",
    "SELECT C.Customer_name, C.Contact, O.Quantity * O.Cost AS Total_Cost\n",
    "FROM Customer AS C JOIN Orders AS O ON C.CustomerID = O.CustomerID\n",
    "WHERE O.Quantity*O.Cost > 60;\n",
    "\"\"\"\n",
    "\n"
   ]
  },
  {
   "cell_type": "code",
   "execution_count": 6,
   "id": "570fe4dd-bd2c-4b64-8609-0a69b1bd830f",
   "metadata": {},
   "outputs": [
    {
     "name": "stdout",
     "output_type": "stream",
     "text": [
      "['Customer_name', 'Contact', 'Total_Cost']\n",
      "[('Misaki Ogura', '206-989-9995', 200)]\n"
     ]
    }
   ],
   "source": [
    "cursor.execute(cus_cost)\n",
    "results = cursor.fetchall()\n",
    "\n",
    "## Printing the results with the column names.\n",
    "columns = [column[0] for column in cursor.description]\n",
    "print(columns)\n",
    "print(results)"
   ]
  },
  {
   "cell_type": "code",
   "execution_count": null,
   "id": "4a785ddf-6c00-45e0-b0ee-c7450acfdd9a",
   "metadata": {},
   "outputs": [],
   "source": []
  }
 ],
 "metadata": {
  "kernelspec": {
   "display_name": "Python 3 (ipykernel)",
   "language": "python",
   "name": "python3"
  },
  "language_info": {
   "codemirror_mode": {
    "name": "ipython",
    "version": 3
   },
   "file_extension": ".py",
   "mimetype": "text/x-python",
   "name": "python",
   "nbconvert_exporter": "python",
   "pygments_lexer": "ipython3",
   "version": "3.11.6"
  }
 },
 "nbformat": 4,
 "nbformat_minor": 5
}
